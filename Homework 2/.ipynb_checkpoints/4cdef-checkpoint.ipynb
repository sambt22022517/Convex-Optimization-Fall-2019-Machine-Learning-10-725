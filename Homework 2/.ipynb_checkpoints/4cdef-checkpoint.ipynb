{
 "cells": [
  {
   "cell_type": "code",
   "execution_count": 1,
   "id": "93cd5f16-75a0-47f4-b874-2017ab76bc2f",
   "metadata": {},
   "outputs": [
    {
     "name": "stdout",
     "output_type": "stream",
     "text": [
      "(CVXPY) Nov 07 09:31:34 AM: Encountered unexpected exception importing solver OSQP:\n",
      "ImportError('DLL load failed while importing qdldl: The specified module could not be found.')\n"
     ]
    }
   ],
   "source": [
    "import cvxpy as cp\n",
    "import numpy as np\n",
    "import pandas as pd\n",
    "import seaborn as sns\n",
    "import matplotlib.pyplot as plt\n",
    "import math"
   ]
  },
  {
   "cell_type": "code",
   "execution_count": 2,
   "id": "4832b305-e0d4-45f8-b85f-48b8576c924b",
   "metadata": {},
   "outputs": [],
   "source": [
    "groupLabels = np.loadtxt('movies/groupLabelsPerRating.txt', delimiter=',')\n",
    "groupLabels = np.insert(groupLabels, 0, values=0)"
   ]
  },
  {
   "cell_type": "code",
   "execution_count": 3,
   "id": "a06042f0-e0ea-46e6-8149-69c139918875",
   "metadata": {},
   "outputs": [],
   "source": [
    "trainRatings = np.loadtxt('movies/trainRatings.txt', delimiter=',')\n",
    "trainRatings = np.insert(trainRatings, 0, values=1, axis=1)"
   ]
  },
  {
   "cell_type": "code",
   "execution_count": 4,
   "id": "10e42e76-c811-4ea7-a8f3-0912131aa383",
   "metadata": {},
   "outputs": [],
   "source": [
    "trainLabels = np.loadtxt('movies/trainLabels.txt', delimiter=',')"
   ]
  },
  {
   "cell_type": "code",
   "execution_count": 5,
   "id": "febbf7bd-c47b-4835-bc37-5020d51f9439",
   "metadata": {},
   "outputs": [],
   "source": [
    "class Optimization:\n",
    "    def __init__(self, X, y, groupLabels, LAMBDA=5, learning_rate=1e-4):\n",
    "        self.X = X\n",
    "        self.y = y\n",
    "        self.LAMBDA = LAMBDA\n",
    "        self.lr = learning_rate\n",
    "        self.groupLabels = groupLabels\n",
    "        \n",
    "        self.beta0 = np.random.rand(X.shape[1])\n",
    "        self.beta = np.zeros(X.shape[1])\n",
    "        self.group, count = np.unique(groupLabels, return_counts=True)\n",
    "        self.fk = np.empty(0)\n",
    "        self.w = np.sqrt(count)\n",
    "        \n",
    "    def norm2(self, vector):\n",
    "        return np.linalg.norm(vector)\n",
    "    \n",
    "    def proximal(self, betaj, wj, t):\n",
    "        norm2 = self.norm2(betaj)\n",
    "        if norm2 == 0:\n",
    "            return betaj*0\n",
    "        return betaj * np.maximum(0, 1-t*wj*self.LAMBDA/norm2)\n",
    "    \n",
    "    def gradient(self, beta):\n",
    "        XBeta = self.X @ beta\n",
    "        result = (np.exp(XBeta) / (1+np.exp(XBeta)) - self.y) @ self.X\n",
    "        return result\n",
    "    \n",
    "    def g(self, beta):\n",
    "        XBeta = self.X @ beta\n",
    "        f1 = -self.y @ XBeta.T\n",
    "        f2 = np.ones(XBeta.shape) @ np.log(1+np.exp(XBeta))\n",
    "        return f1+f2\n",
    "    \n",
    "    def h(self, beta):\n",
    "        S = 0\n",
    "        for j in self.group:\n",
    "            jbeta = (self.groupLabels==j)\n",
    "            jw = (self.group==j)\n",
    "            S += self.w[jw] * self.norm2(beta[jbeta])\n",
    "        return self.LAMBDA * S\n",
    "    \n",
    "    def Fk(self, beta):\n",
    "        gk = self.g(beta)\n",
    "        hk = self.h(beta)\n",
    "        return gk + hk\n",
    "    \n",
    "    def PGD(self, iteration=1000):\n",
    "        self.fk = np.empty(0)\n",
    "        self.fk = np.append(self.fk, self.Fk(self.beta0))\n",
    "        beta = self.beta0.copy()\n",
    "        \n",
    "        for i in range(iteration):\n",
    "            betaCopy = beta.copy()\n",
    "            grad = self.gradient(betaCopy)\n",
    "            for j in self.group:\n",
    "                jbeta = (self.groupLabels==j)\n",
    "                jw = (self.group==j)\n",
    "                betaCopy[jbeta] = self.proximal(betaCopy[jbeta]-self.lr*grad[jbeta], self.w[jw], self.lr)\n",
    "            beta = betaCopy.copy()\n",
    "            \n",
    "            self.fk = np.append(self.fk, self.Fk(betaCopy))\n",
    "        self.beta = beta.copy()\n",
    "            \n",
    "    def NesterovPGD(self, iteration=1000):\n",
    "        self.fk = np.empty(0)\n",
    "        beta_1 = self.beta0.copy()\n",
    "        self.fk = np.append(self.fk, self.Fk(self.beta0))\n",
    "        beta = self.beta0.copy()\n",
    "        \n",
    "        for i in range(iteration):\n",
    "            beta_2 = beta_1.copy()\n",
    "            beta_1 = beta.copy()\n",
    "            v = beta_1 + (i-2)/(i+1)*(beta_1-beta_2)\n",
    "            grad = self.gradient(v)\n",
    "            for j in self.group:\n",
    "                jbeta = (self.groupLabels==j)\n",
    "                jw = (self.group==j)\n",
    "                beta[jbeta] = self.proximal(v[jbeta]-self.lr*grad[jbeta], self.w[jw], self.lr)\n",
    "            \n",
    "            self.fk = np.append(self.fk, self.Fk(beta))\n",
    "        self.beta = beta.copy()\n",
    "            \n",
    "    def BacktrackingLineSearch(self, iteration=1000, t=1e-4):\n",
    "        self.fk = np.empty(0)\n",
    "        b = 0.1\n",
    "        a = 0.5\n",
    "        t = t\n",
    "        self.fk = np.append(self.fk, self.Fk(self.beta0))\n",
    "        beta = self.beta0.copy()\n",
    "        \n",
    "        for i in range(iteration):\n",
    "            prox = beta.copy()\n",
    "            grad = self.gradient(prox)\n",
    "            for j in self.group:\n",
    "                jbeta = (self.groupLabels==j)\n",
    "                jw = (self.group==j)\n",
    "                prox[jbeta] = self.proximal(prox[jbeta]-t*grad[jbeta], self.w[jw], t)\n",
    "            \n",
    "            G = 1/t * (beta - prox)\n",
    "            gG = self.g(beta - t*G)\n",
    "            gSq = self.g(beta) - t*grad@G + t/2*self.norm2(G)**2\n",
    "            if gG > gSq:\n",
    "                t = b*t\n",
    "            else:\n",
    "                beta = prox.copy()\n",
    "            \n",
    "            self.fk = np.append(self.fk, self.Fk(beta))\n",
    "        self.beta = beta.copy()\n",
    "            \n",
    "    def NesterovBacktrackingLineSearch(self, iteration=1000, t=1e-4):\n",
    "        self.fk = np.empty(0)\n",
    "        b = 0.1\n",
    "        a = 0.5\n",
    "        t = t\n",
    "        beta_1 = self.beta0.copy()\n",
    "        self.fk = np.append(self.fk, self.Fk(self.beta0))\n",
    "        beta = self.beta0.copy()\n",
    "        betaCopy = beta.copy()\n",
    "        \n",
    "        for i in range(iteration):\n",
    "            beta_2 = beta_1.copy()\n",
    "            beta_1 = beta.copy()\n",
    "            v = beta_1 + (i-2)/(i+1)*(beta_1-beta_2)\n",
    "            grad = self.gradient(v)\n",
    "            for j in self.group:\n",
    "                jbeta = (self.groupLabels==j)\n",
    "                jw = (self.group==j)\n",
    "                betaCopy[jbeta] = self.proximal(v[jbeta]-t*grad[jbeta], self.w[jw], t)\n",
    "                \n",
    "            gbeta = self.g(betaCopy)\n",
    "            gSq = self.g(v) + grad@(betaCopy-v) + 1/(2*t)*self.norm2(betaCopy-v)**2\n",
    "            if gbeta > gSq:\n",
    "                t*=b\n",
    "            else:\n",
    "                beta = betaCopy.copy()\n",
    "            \n",
    "            self.fk = np.append(self.fk, self.Fk(beta))\n",
    "        self.beta = beta.copy()\n",
    "        "
   ]
  },
  {
   "cell_type": "code",
   "execution_count": 6,
   "id": "568e75a3-28bc-4460-9c2c-c130ebdf3ec5",
   "metadata": {},
   "outputs": [],
   "source": [
    "pgd = Optimization(X=trainRatings, y=trainLabels, groupLabels=groupLabels)\n",
    "fstar = 336.207\n",
    "iteration = 1000"
   ]
  },
  {
   "cell_type": "code",
   "execution_count": 7,
   "id": "4b3fa31a-5591-47c5-be9e-a5271dcc4ad6",
   "metadata": {},
   "outputs": [
    {
     "name": "stdout",
     "output_type": "stream",
     "text": [
      "k=1: 12255.992924051234\n",
      "k=1000: 381.0327706013177\n",
      "CPU times: total: 7.42 s\n",
      "Wall time: 1.89 s\n"
     ]
    }
   ],
   "source": [
    "%%time\n",
    "# 4c Proximal Gradient Descent\n",
    "pgd.PGD(iteration=iteration)\n",
    "print(f\"k=1: {pgd.fk[0]}\")\n",
    "print(f\"k={iteration}: {pgd.fk[-1]}\")\n",
    "\n",
    "data = pd.DataFrame(np.log(pgd.fk-np.full(iteration+1, fstar)), columns=['Proximal Gradient Descent'])"
   ]
  },
  {
   "cell_type": "code",
   "execution_count": 8,
   "id": "5aef018d-c909-4a93-92c1-6ac2e765ac77",
   "metadata": {},
   "outputs": [
    {
     "name": "stdout",
     "output_type": "stream",
     "text": [
      "k=1: 12255.992924051234\n",
      "k=1000: 337.9033491761813\n",
      "CPU times: total: 7.47 s\n",
      "Wall time: 1.85 s\n"
     ]
    }
   ],
   "source": [
    "%%time\n",
    "# 4d Nesterov Proximal Gradient Descent\n",
    "pgd.NesterovPGD(iteration=iteration)\n",
    "print(f\"k=1: {pgd.fk[0]}\")\n",
    "print(f\"k={iteration}: {pgd.fk[-1]}\")\n",
    "\n",
    "data['Nesterov Proximal Gradient Descent'] = np.log(pgd.fk-np.full(iteration+1, fstar))"
   ]
  },
  {
   "cell_type": "code",
   "execution_count": 9,
   "id": "ba3cd44c-a725-4661-8fe4-ab4822a49943",
   "metadata": {},
   "outputs": [
    {
     "name": "stdout",
     "output_type": "stream",
     "text": [
      "k=1: 12255.992924051234\n",
      "k=1000: 342.96287916132553\n",
      "CPU times: total: 8.77 s\n",
      "Wall time: 2.22 s\n"
     ]
    }
   ],
   "source": [
    "%%time\n",
    "# 4e Proximal Backtracking Line Search\n",
    "pgd.BacktrackingLineSearch(iteration=iteration, t=0.5)\n",
    "print(f\"k=1: {pgd.fk[0]}\")\n",
    "print(f\"k={iteration}: {pgd.fk[-1]}\")\n",
    "\n",
    "data['Proximal Backtracking Line Search'] = np.log(pgd.fk-np.full(iteration+1, fstar))"
   ]
  },
  {
   "cell_type": "code",
   "execution_count": 10,
   "id": "d3d56381-ea4d-4873-9e90-a8c3bffc58bf",
   "metadata": {},
   "outputs": [
    {
     "name": "stdout",
     "output_type": "stream",
     "text": [
      "k=1: 12255.992924051234\n",
      "k=1000: 337.90336105234917\n",
      "CPU times: total: 9.27 s\n",
      "Wall time: 2.35 s\n"
     ]
    }
   ],
   "source": [
    "%%time\n",
    "# Bonus Nesterov Backtracking Line Search\n",
    "pgd.NesterovBacktrackingLineSearch(iteration=iteration, t=0.5)\n",
    "print(f\"k=1: {pgd.fk[0]}\")\n",
    "print(f\"k={iteration}: {pgd.fk[-1]}\")\n",
    "\n",
    "data['Nesterov Backtracking Line Search'] = np.log(pgd.fk-np.full(iteration+1, fstar))"
   ]
  },
  {
   "cell_type": "code",
   "execution_count": 11,
   "id": "115420da-abd4-4422-8f30-4172c8444fa3",
   "metadata": {},
   "outputs": [
    {
     "data": {
      "text/plain": [
       "Text(0.5, 1.0, \"Algorithms' performance\")"
      ]
     },
     "execution_count": 11,
     "metadata": {},
     "output_type": "execute_result"
    },
    {
     "data": {
      "image/png": "[encoded data removed]",
      "text/plain": [
       "<Figure size 640x480 with 1 Axes>"
      ]
     },
     "metadata": {},
     "output_type": "display_data"
    }
   ],
   "source": [
    "# Plot\n",
    "sns.lineplot(data=data)\n",
    "plt.xlabel(\"k\")\n",
    "plt.ylabel(\"f-fstar\")\n",
    "plt.title(\"Algorithms' performance\")"
   ]
  },
  {
   "cell_type": "code",
   "execution_count": 12,
   "id": "dabb9857-0715-405d-9923-edc1826f6405",
   "metadata": {},
   "outputs": [
    {
     "data": {
      "text/plain": [
       "array([[1., 4., 0., ..., 0., 0., 0.],\n",
       "       [1., 0., 0., ..., 0., 0., 0.],\n",
       "       [1., 0., 0., ..., 0., 0., 0.],\n",
       "       ...,\n",
       "       [1., 0., 0., ..., 0., 0., 0.],\n",
       "       [1., 0., 0., ..., 0., 0., 0.],\n",
       "       [1., 0., 0., ..., 0., 0., 0.]])"
      ]
     },
     "execution_count": 12,
     "metadata": {},
     "output_type": "execute_result"
    }
   ],
   "source": [
    "# 4f \n",
    "testRatings = np.loadtxt('movies/testRatings.txt', delimiter=',')\n",
    "testRatings = np.insert(testRatings, 0, values=1, axis=1)\n",
    "testRatings"
   ]
  },
  {
   "cell_type": "code",
   "execution_count": 13,
   "id": "4f6559a9-c3d7-4ec1-8f08-8c68dda716fb",
   "metadata": {},
   "outputs": [],
   "source": [
    "testLabels = np.loadtxt('movies/testLabels.txt', delimiter=',')"
   ]
  },
  {
   "cell_type": "code",
   "execution_count": 14,
   "id": "d71086ce-017b-4672-a42b-36f3ca7745a9",
   "metadata": {},
   "outputs": [
    {
     "data": {
      "text/plain": [
       "69"
      ]
     },
     "execution_count": 14,
     "metadata": {},
     "output_type": "execute_result"
    }
   ],
   "source": [
    "# Classification error\n",
    "((testRatings @ pgd.beta > 0).astype(int) != testLabels).sum()"
   ]
  },
  {
   "cell_type": "code",
   "execution_count": 15,
   "id": "ceeddf7b-377e-4b9a-a25c-6b60e6fca1a6",
   "metadata": {},
   "outputs": [],
   "source": [
    "y = (testRatings @ pgd.beta < 0)\n",
    "under40 = testRatings[y, 1:]"
   ]
  },
  {
   "cell_type": "code",
   "execution_count": 16,
   "id": "ca08b74e-3ecc-4eb3-abfa-eeff8c9e1996",
   "metadata": {},
   "outputs": [],
   "source": [
    "group = np.unique(groupLabels[1:])\n",
    "groupSlice = [0]\n",
    "for i in group:\n",
    "    count = 0\n",
    "    for j in groupLabels:\n",
    "        if i == j:\n",
    "            count += 1\n",
    "    groupSlice.append(groupSlice[-1] + count)\n",
    "    \n",
    "genre = []\n",
    "for i in range(len(groupSlice)-1):\n",
    "    genre.append(under40[:, groupSlice[i]:groupSlice[i+1]].sum())\n",
    "genre = np.array(genre)\n",
    "maxRate = np.where(genre==genre.max())[0][0]"
   ]
  },
  {
   "cell_type": "code",
   "execution_count": 17,
   "id": "000e466d-ffda-46a5-88ea-959e3261e0b2",
   "metadata": {},
   "outputs": [
    {
     "data": {
      "text/plain": [
       "'Drama'"
      ]
     },
     "execution_count": 17,
     "metadata": {},
     "output_type": "execute_result"
    }
   ],
   "source": [
    "# Most important movie genre\n",
    "np.loadtxt('movies/groupTitles.txt', delimiter=',', dtype=str)[maxRate]"
   ]
  },
  {
   "cell_type": "code",
   "execution_count": null,
   "id": "c0b3cc32-a9eb-493e-aa02-0538df16381b",
   "metadata": {},
   "outputs": [],
   "source": []
  }
 ],
 "metadata": {
  "kernelspec": {
   "display_name": "Python 3 (ipykernel)",
   "language": "python",
   "name": "python3"
  },
  "language_info": {
   "codemirror_mode": {
    "name": "ipython",
    "version": 3
   },
   "file_extension": ".py",
   "mimetype": "text/x-python",
   "name": "python",
   "nbconvert_exporter": "python",
   "pygments_lexer": "ipython3",
   "version": "3.10.9"
  }
 },
 "nbformat": 4,
 "nbformat_minor": 5
}
