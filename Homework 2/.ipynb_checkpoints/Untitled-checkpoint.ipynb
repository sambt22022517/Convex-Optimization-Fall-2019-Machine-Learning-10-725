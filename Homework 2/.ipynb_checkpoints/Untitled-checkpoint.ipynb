{
 "cells": [
  {
   "cell_type": "code",
   "execution_count": 1,
   "id": "93cd5f16-75a0-47f4-b874-2017ab76bc2f",
   "metadata": {},
   "outputs": [
    {
     "name": "stdout",
     "output_type": "stream",
     "text": [
      "(CVXPY) Nov 06 10:33:35 PM: Encountered unexpected exception importing solver OSQP:\n",
      "ImportError('DLL load failed while importing qdldl: The specified module could not be found.')\n"
     ]
    }
   ],
   "source": [
    "import cvxpy as cp\n",
    "import numpy as np\n",
    "import pandas as pd\n",
    "import seaborn as sns\n",
    "import matplotlib.pyplot as plt\n",
    "import math"
   ]
  },
  {
   "cell_type": "code",
   "execution_count": 2,
   "id": "4832b305-e0d4-45f8-b85f-48b8576c924b",
   "metadata": {},
   "outputs": [],
   "source": [
    "groupLabels = np.loadtxt('movies/groupLabelsPerRating.txt', delimiter=',')\n",
    "groupLabels = np.insert(groupLabels, 0, values=0)"
   ]
  },
  {
   "cell_type": "code",
   "execution_count": 3,
   "id": "a06042f0-e0ea-46e6-8149-69c139918875",
   "metadata": {},
   "outputs": [],
   "source": [
    "trainRatings = np.loadtxt('movies/trainRatings.txt', delimiter=',')\n",
    "trainRatings = np.insert(trainRatings, 0, values=1, axis=1)"
   ]
  },
  {
   "cell_type": "code",
   "execution_count": 4,
   "id": "10e42e76-c811-4ea7-a8f3-0912131aa383",
   "metadata": {},
   "outputs": [],
   "source": [
    "trainLabels = np.loadtxt('movies/trainLabels.txt', delimiter=',')"
   ]
  },
  {
   "cell_type": "code",
   "execution_count": 30,
   "id": "febbf7bd-c47b-4835-bc37-5020d51f9439",
   "metadata": {},
   "outputs": [],
   "source": [
    "class Optimization:\n",
    "    def __init__(self, X, y, groupLabels, LAMBDA=5, learning_rate=1e-4):\n",
    "        self.X = X\n",
    "        self.y = y\n",
    "        self.LAMBDA = LAMBDA\n",
    "        self.lr = learning_rate\n",
    "        self.groupLabels = groupLabels\n",
    "        \n",
    "        self.beta = np.random.rand(X.shape[1])\n",
    "        self.group, count = np.unique(groupLabels, return_counts=True)\n",
    "        self.fk = np.empty(0)\n",
    "        self.w = np.sqrt(count)\n",
    "        \n",
    "    def norm2(self, vector):\n",
    "        return np.linalg.norm(vector)\n",
    "    \n",
    "    def proximal(self, betaj, wj, t):\n",
    "        norm2 = self.norm2(betaj)\n",
    "        if norm2 == 0:\n",
    "            return betaj*0\n",
    "        return betaj * np.maximum(0, 1-t*wj*self.LAMBDA/norm2)\n",
    "    \n",
    "    def gradient(self, beta):\n",
    "        XBeta = self.X @ beta\n",
    "        result = (np.exp(XBeta) / (1+np.exp(XBeta)) - self.y) @ self.X\n",
    "        return result\n",
    "    \n",
    "    def g(self, beta):\n",
    "        XBeta = self.X @ beta\n",
    "        f1 = -self.y @ XBeta.T\n",
    "        f2 = np.ones(XBeta.shape) @ np.log(1+np.exp(XBeta))\n",
    "        return f1+f2\n",
    "    \n",
    "    def h(self, beta):\n",
    "        S = 0\n",
    "        for j in self.group:\n",
    "            jbeta = (self.groupLabels==j)\n",
    "            jw = (self.group==j)\n",
    "            S += self.w[jw] * self.norm2(beta[jbeta])\n",
    "        return self.LAMBDA * S\n",
    "    \n",
    "    def Fk(self, beta):\n",
    "        gk = self.g(beta)\n",
    "        hk = self.h(beta)\n",
    "        return gk + hk\n",
    "    \n",
    "    def PGD(self, iteration=1000):\n",
    "        for i in range(iteration):\n",
    "            betaCopy = self.beta.copy()\n",
    "            grad = self.gradient(betaCopy)\n",
    "            for j in self.group:\n",
    "                jbeta = (self.groupLabels==j)\n",
    "                jw = (self.group==j)\n",
    "                betaCopy[jbeta] = self.proximal(betaCopy[jbeta]-self.lr*grad[jbeta], self.w[jw], self.lr)\n",
    "            self.beta = betaCopy.copy()\n",
    "            \n",
    "            self.fk = np.append(self.fk, self.Fk(betaCopy))\n",
    "            \n",
    "    def NesterovPGD(self, iteration=1000):\n",
    "        beta_1 = self.beta.copy()\n",
    "        for i in range(iteration):\n",
    "            beta_2 = beta_1.copy()\n",
    "            beta_1 = self.beta.copy()\n",
    "            v = beta_1 + (i-2)/(i+1)*(beta_1-beta_2)\n",
    "            grad = self.gradient(v)\n",
    "            for j in self.group:\n",
    "                jbeta = (self.groupLabels==j)\n",
    "                jw = (self.group==j)\n",
    "                self.beta[jbeta] = self.proximal(v[jbeta]-self.lr*grad[jbeta], self.w[jw], self.lr)\n",
    "            \n",
    "            self.fk = np.append(self.fk, self.Fk(self.beta))"
   ]
  },
  {
   "cell_type": "code",
   "execution_count": 32,
   "id": "568e75a3-28bc-4460-9c2c-c130ebdf3ec5",
   "metadata": {},
   "outputs": [],
   "source": [
    "pgd = Optimization(X=trainRatings, y=trainLabels, groupLabels=groupLabels)"
   ]
  },
  {
   "cell_type": "code",
   "execution_count": 33,
   "id": "4b3fa31a-5591-47c5-be9e-a5271dcc4ad6",
   "metadata": {},
   "outputs": [
    {
     "name": "stdout",
     "output_type": "stream",
     "text": [
      "k=1: 12056.558917765917\n",
      "k=1000: 365.98082087468777\n",
      "CPU times: total: 14.4 s\n",
      "Wall time: 3.62 s\n"
     ]
    }
   ],
   "source": [
    "%%time\n",
    "iteration = 1000\n",
    "pgd.PGD(iteration=iteration)\n",
    "print(f\"k=1: {pgd.fk[0]}\")\n",
    "print(f\"k={iteration}: {pgd.fk[-1]}\")"
   ]
  },
  {
   "cell_type": "code",
   "execution_count": 34,
   "id": "5aef018d-c909-4a93-92c1-6ac2e765ac77",
   "metadata": {},
   "outputs": [
    {
     "name": "stdout",
     "output_type": "stream",
     "text": [
      "k=1: 12056.558917765917\n",
      "k=1000: 337.9033378228664\n",
      "CPU times: total: 14.4 s\n",
      "Wall time: 3.65 s\n"
     ]
    }
   ],
   "source": [
    "%%time\n",
    "iteration = 1000\n",
    "pgd.NesterovPGD(iteration=iteration)\n",
    "print(f\"k=1: {pgd.fk[0]}\")\n",
    "print(f\"k={iteration}: {pgd.fk[-1]}\")"
   ]
  },
  {
   "cell_type": "code",
   "execution_count": 29,
   "id": "115420da-abd4-4422-8f30-4172c8444fa3",
   "metadata": {},
   "outputs": [
    {
     "data": {
      "text/plain": [
       "Text(0.5, 1.0, 'Proximal Gradient Descent')"
      ]
     },
     "execution_count": 29,
     "metadata": {},
     "output_type": "execute_result"
    },
    {
     "data": {
      "image/png": "[encoded data removed]",
      "text/plain": [
       "<Figure size 640x480 with 1 Axes>"
      ]
     },
     "metadata": {},
     "output_type": "display_data"
    }
   ],
   "source": [
    "sns.lineplot(x=np.arange(1,iteration+1), y=np.log(pgd.fk - np.full(iteration, 336.207)))\n",
    "plt.xlabel(\"k\")\n",
    "plt.ylabel(\"f-fstar\")\n",
    "plt.title(\"Proximal Gradient Descent\")"
   ]
  },
  {
   "cell_type": "code",
   "execution_count": null,
   "id": "dabb9857-0715-405d-9923-edc1826f6405",
   "metadata": {},
   "outputs": [],
   "source": []
  }
 ],
 "metadata": {
  "kernelspec": {
   "display_name": "Python 3 (ipykernel)",
   "language": "python",
   "name": "python3"
  },
  "language_info": {
   "codemirror_mode": {
    "name": "ipython",
    "version": 3
   },
   "file_extension": ".py",
   "mimetype": "text/x-python",
   "name": "python",
   "nbconvert_exporter": "python",
   "pygments_lexer": "ipython3",
   "version": "3.10.9"
  }
 },
 "nbformat": 4,
 "nbformat_minor": 5
}
